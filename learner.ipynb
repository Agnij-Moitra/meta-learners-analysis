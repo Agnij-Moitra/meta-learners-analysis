{
 "cells": [
  {
   "cell_type": "code",
   "execution_count": 1,
   "metadata": {},
   "outputs": [],
   "source": [
    "import numpy as np\n",
    "from sklearn.model_selection import train_test_split\n",
    "from sklearn.datasets import make_friedman1\n",
    "from sklearn.ensemble import RandomForestRegressor, RandomForestClassifier\n",
    "from sklearn.svm import SVC, SVR\n",
    "from sklearn.neighbors import KNeighborsClassifier, KNeighborsRegressor\n",
    "from xgboost.sklearn import XGBClassifier, XGBRegressor\n",
    "from sklearn.tree import DecisionTreeClassifier, DecisionTreeRegressor\n",
    "from sklearn.linear_model import ElasticNet, LinearRegression\n",
    "from sklearn.base import BaseEstimator, ClassifierMixin, RegressorMixin\n",
    "from sklearn.utils.validation import check_X_y, check_array, check_is_fitted\n",
    "from lightgbm import LGBMRegressor, LGBMClassifier\n",
    "from concurrent.futures import ThreadPoolExecutor\n"
   ]
  },
  {
   "cell_type": "code",
   "execution_count": 148,
   "metadata": {},
   "outputs": [],
   "source": [
    "ESTIMATOR_REG = [RandomForestRegressor(), KNeighborsRegressor(), SVR(), \n",
    "                XGBRegressor(), LGBMRegressor(), DecisionTreeRegressor()]\n",
    "                \n",
    "ESTIMATOR_CLF = [RandomForestClassifier(), SVC(), KNeighborsClassifier(), \n",
    "                XGBClassifier(), DecisionTreeClassifier(), LGBMClassifier(), \n",
    "                DecisionTreeClassifier()]\n"
   ]
  },
  {
   "cell_type": "code",
   "execution_count": 178,
   "metadata": {},
   "outputs": [],
   "source": [
    "class meta_learner(BaseEstimator):\n",
    "    \"\"\"A meta-learner class that combines base estimators using a meta estimator.\n",
    "\n",
    "    Parameters:\n",
    "    -----------\n",
    "    base_estimators : list\n",
    "        A list of base estimators to be used.\n",
    "    meta_estimator : object\n",
    "        The meta estimator used to combine the predictions of the base estimators.\n",
    "\n",
    "    Methods:\n",
    "    --------\n",
    "    fit(X, y):\n",
    "        Fit the base estimators on the training data and target.\n",
    "    predict(X):\n",
    "        Predict the target values for the input data using the base and meta estimators.\n",
    "\n",
    "    \"\"\"\n",
    "\n",
    "    def __init__(self, base_estimators, meta_estimator):\n",
    "        self.base_estimators = base_estimators\n",
    "        self.meta_estimator = meta_estimator\n",
    "\n",
    "    def fit(self, X, y):\n",
    "        \"\"\"Fit the base estimators on the training data and target.\n",
    "\n",
    "        Parameters:\n",
    "        -----------\n",
    "        X : array-like, shape (n_samples, n_features)\n",
    "            The training data.\n",
    "        y : array-like, shape (n_samples,)\n",
    "            The target values.\n",
    "\n",
    "        \"\"\"\n",
    "        def model_fit(model): return model.fit(X, y)\n",
    "        with ThreadPoolExecutor(max_workers=len(self.base_estimators)) as executor:\n",
    "            res = executor.map(model_fit, self.base_estimators)\n",
    "            self.base_estimators = [i for i in res]\n",
    "\n",
    "        base_preds = []\n",
    "        self.X = X\n",
    "        with ThreadPoolExecutor(max_workers=len(self.base_estimators)) as executor:\n",
    "            res = executor.map(self.__model_predict, self.base_estimators)\n",
    "            base_preds = np.column_stack([i for i in res])\n",
    "        self.meta_estimator.fit(base_preds, y)\n",
    "\n",
    "    def predict(self, X):\n",
    "        \"\"\"Predict the target values for the input data using the base and meta estimators.\n",
    "\n",
    "        Parameters:\n",
    "        -----------\n",
    "        X : array-like, shape (n_samples, n_features)\n",
    "            The input data.\n",
    "\n",
    "        Returns:\n",
    "        --------\n",
    "        y_pred : array-like, shape (n_samples,)\n",
    "            The predicted target values.\n",
    "\n",
    "        \"\"\"\n",
    "        X = check_array(X)\n",
    "        self.X = X\n",
    "        base_preds = []\n",
    "        with ThreadPoolExecutor(max_workers=len(self.base_estimators)) as executor:\n",
    "            res = executor.map(self.__model_predict, self.base_estimators)\n",
    "            base_preds = np.column_stack([i for i in res])\n",
    "        return self.meta_estimator.predict(base_preds)\n",
    "\n",
    "    def __model_predict(self, model): return model.predict(self.X)\n"
   ]
  },
  {
   "cell_type": "code",
   "execution_count": 179,
   "metadata": {},
   "outputs": [],
   "source": [
    "X, y = make_friedman1()\n",
    "X_train, X_test, y_train, y_test = train_test_split(X, y)\n"
   ]
  },
  {
   "cell_type": "code",
   "execution_count": 180,
   "metadata": {},
   "outputs": [],
   "source": [
    "meta = meta_learner(ESTIMATOR_REG, LinearRegression())\n"
   ]
  },
  {
   "cell_type": "code",
   "execution_count": 182,
   "metadata": {},
   "outputs": [],
   "source": [
    "meta.fit(X_train, y_train)"
   ]
  },
  {
   "cell_type": "code",
   "execution_count": 183,
   "metadata": {},
   "outputs": [
    {
     "data": {
      "text/plain": [
       "array([14.98640234, 12.22423747,  9.7409516 , 16.87626314, 17.89585878,\n",
       "       15.70180884, 12.71914375,  5.09494379, 12.26302873, 20.86818582,\n",
       "       12.81334597, 14.15205596, 14.53409368, 16.42654087, 11.92127748,\n",
       "       14.64970392, 19.25482772, 12.90357584, 16.12821663,  9.55050898,\n",
       "       11.85588787, 15.44540672, 21.83313456, 20.9569284 , 19.44162237,\n",
       "       12.84176221, 14.37125123, 17.01663691, 13.01206988, 11.91930039,\n",
       "       12.27392707,  9.17040802, 15.77414345, 12.79081115, 16.54228914,\n",
       "       15.01446276,  7.51271042, 18.61426757, 15.6622939 ,  7.120763  ,\n",
       "       13.45329758,  4.93159591, 11.32958514, 11.29093078,  7.84406661,\n",
       "       14.95468859, 16.63172048, 16.32097904,  4.67406812, 20.36020593,\n",
       "       10.4499567 , 19.81281756, 18.53740983, 12.39453249,  7.8440786 ,\n",
       "        6.61750105, 15.66431069, 19.52029907, 15.4027207 , 20.66326759,\n",
       "       21.72107345,  5.39486388, 12.19208617, 18.70735457, 12.01215677,\n",
       "       13.88225043, 10.25767762, 20.51586405, 11.83340492, 12.08613955,\n",
       "       15.15275405,  6.60126108, 13.97492515, 12.02395178, 16.99585698])"
      ]
     },
     "execution_count": 183,
     "metadata": {},
     "output_type": "execute_result"
    }
   ],
   "source": [
    "meta.predict(X_train)"
   ]
  },
  {
   "cell_type": "code",
   "execution_count": null,
   "metadata": {},
   "outputs": [],
   "source": []
  }
 ],
 "metadata": {
  "kernelspec": {
   "display_name": "Python 3",
   "language": "python",
   "name": "python3"
  },
  "language_info": {
   "codemirror_mode": {
    "name": "ipython",
    "version": 3
   },
   "file_extension": ".py",
   "mimetype": "text/x-python",
   "name": "python",
   "nbconvert_exporter": "python",
   "pygments_lexer": "ipython3",
   "version": "3.8.7"
  },
  "orig_nbformat": 4
 },
 "nbformat": 4,
 "nbformat_minor": 2
}
